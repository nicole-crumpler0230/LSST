{
 "cells": [
  {
   "cell_type": "code",
   "execution_count": 39,
   "metadata": {},
   "outputs": [],
   "source": [
    "import numpy as np\n",
    "\n",
    "%config InlineBackend.rc = {}\n",
    "import matplotlib\n",
    "import matplotlib.pyplot as plt\n",
    "%matplotlib inline\n",
    "from astropy.io import fits"
   ]
  },
  {
   "cell_type": "code",
   "execution_count": 65,
   "metadata": {},
   "outputs": [
    {
     "name": "stdout",
     "output_type": "stream",
     "text": [
      "5367.7056\n"
     ]
    },
    {
     "data": {
      "image/png": "[encoded data removed]",
      "text/plain": [
       "<Figure size 640x480 with 2 Axes>"
      ]
     },
     "metadata": {},
     "output_type": "display_data"
    }
   ],
   "source": [
    "#Summed intensity of Magnitude 5 star\n",
    "hdulist = fits.open('Mag_5_Saturation.fits')\n",
    "image_data_Mag_5 = hdulist[0].data\n",
    "hdulist.close()\n",
    "#Zoom in to region where star is\n",
    "image_zoom_Mag_5=image_data_Mag_5[90:110,90:110]\n",
    "#Display the zoomed in image\n",
    "plt.imshow(image_zoom_Mag_5, cmap='gray')\n",
    "plt.colorbar()\n",
    "#Convert all pixel values to floats\n",
    "floatingpoint_version_Mag_5 = image_zoom_Mag_5[:,:]/1.0\n",
    "#Now we can sum up the intensities\n",
    "si_Mag_5 = floatingpoint_version_Mag_5[:,:].sum()\n",
    "#Print summed intensity\n",
    "print(si_Mag_5) "
   ]
  },
  {
   "cell_type": "code",
   "execution_count": 66,
   "metadata": {},
   "outputs": [
    {
     "name": "stdout",
     "output_type": "stream",
     "text": [
      "2136.9219\n"
     ]
    }
   ],
   "source": [
    "#Summed intensity of Magnitude 6 star\n",
    "hdulist = fits.open('Mag_6_Saturation.fits')\n",
    "image_data_Mag_6 = hdulist[0].data\n",
    "hdulist.close()\n",
    "#Zoom in to region where star is\n",
    "image_zoom_Mag_6=image_data_Mag_6[90:110,90:110]\n",
    "#Display the zoomed in image\n",
    "#plt.imshow(image_zoom_Mag_6, cmap='gray')\n",
    "#plt.colorbar()\n",
    "#Convert all pixel values to floats\n",
    "floatingpoint_version_Mag_6 = image_zoom_Mag_6[:,:]/1.0\n",
    "#Now we can sum up the intensities\n",
    "si_Mag_6 = floatingpoint_version_Mag_6[:,:].sum()\n",
    "#Print summed intensity\n",
    "print(si_Mag_6) "
   ]
  },
  {
   "cell_type": "code",
   "execution_count": 67,
   "metadata": {},
   "outputs": [
    {
     "name": "stdout",
     "output_type": "stream",
     "text": [
      "850.724\n"
     ]
    }
   ],
   "source": [
    "#Summed intensity of Magnitude 7 star\n",
    "hdulist = fits.open('Mag_7_Saturation.fits')\n",
    "image_data_Mag_7 = hdulist[0].data\n",
    "hdulist.close()\n",
    "#Zoom in to region where star is\n",
    "image_zoom_Mag_7=image_data_Mag_7[90:110,90:110]\n",
    "#Display the zoomed in image\n",
    "#plt.imshow(image_zoom_Mag_7, cmap='gray')\n",
    "#plt.colorbar()\n",
    "#Convert all pixel values to floats\n",
    "floatingpoint_version_Mag_7 = image_zoom_Mag_7[:,:]/1.0\n",
    "#Now we can sum up the intensities\n",
    "si_Mag_7 = floatingpoint_version_Mag_7[:,:].sum()\n",
    "#Print summed intensity\n",
    "print(si_Mag_7) "
   ]
  },
  {
   "cell_type": "code",
   "execution_count": 68,
   "metadata": {},
   "outputs": [
    {
     "name": "stdout",
     "output_type": "stream",
     "text": [
      "338.67932\n"
     ]
    }
   ],
   "source": [
    "#Summed intensity of Magnitude 8 star\n",
    "hdulist = fits.open('Mag_8_Saturation.fits')\n",
    "image_data_Mag_8 = hdulist[0].data\n",
    "hdulist.close()\n",
    "#Zoom in to region where star is\n",
    "image_zoom_Mag_8=image_data_Mag_8[90:110,90:110]\n",
    "#Display the zoomed in image\n",
    "#plt.imshow(image_zoom_Mag_8, cmap='gray')\n",
    "#plt.colorbar()\n",
    "#Convert all pixel values to floats\n",
    "floatingpoint_version_Mag_8 = image_zoom_Mag_8[:,:]/1.0\n",
    "#Now we can sum up the intensities\n",
    "si_Mag_8 = floatingpoint_version_Mag_8[:,:].sum()\n",
    "#Print summed intensity\n",
    "print(si_Mag_8) "
   ]
  },
  {
   "cell_type": "code",
   "execution_count": 69,
   "metadata": {},
   "outputs": [
    {
     "name": "stdout",
     "output_type": "stream",
     "text": [
      "134.83067\n"
     ]
    }
   ],
   "source": [
    "#Summed intensity of Magnitude 9 star\n",
    "hdulist = fits.open('Mag_9_Saturation.fits')\n",
    "image_data_Mag_9 = hdulist[0].data\n",
    "hdulist.close()\n",
    "#Zoom in to region where star is\n",
    "image_zoom_Mag_9=image_data_Mag_9[90:110,90:110]\n",
    "#Display the zoomed in image\n",
    "#plt.imshow(image_zoom_Mag_9, cmap='gray')\n",
    "#plt.colorbar()\n",
    "#Convert all pixel values to floats\n",
    "floatingpoint_version_Mag_9 = image_zoom_Mag_9[:,:]/1.0\n",
    "#Now we can sum up the intensities\n",
    "si_Mag_9 = floatingpoint_version_Mag_9[:,:].sum()\n",
    "#Print summed intensity\n",
    "print(si_Mag_9) "
   ]
  },
  {
   "cell_type": "code",
   "execution_count": 70,
   "metadata": {},
   "outputs": [
    {
     "name": "stdout",
     "output_type": "stream",
     "text": [
      "53.677055\n"
     ]
    }
   ],
   "source": [
    "#Summed intensity of Magnitude 10 star\n",
    "hdulist = fits.open('Mag_10_Saturation.fits')\n",
    "image_data_Mag_10 = hdulist[0].data\n",
    "hdulist.close()\n",
    "#Zoom in to region where star is\n",
    "image_zoom_Mag_10=image_data_Mag_10[90:110,90:110]\n",
    "#Display the zoomed in image\n",
    "#plt.imshow(image_zoom_Mag_10, cmap='gray')\n",
    "#plt.colorbar()\n",
    "#Convert all pixel values to floats\n",
    "floatingpoint_version_Mag_10 = image_zoom_Mag_10[:,:]/1.0\n",
    "#Now we can sum up the intensities\n",
    "si_Mag_10 = floatingpoint_version_Mag_10[:,:].sum()\n",
    "#Print summed intensity\n",
    "print(si_Mag_10) "
   ]
  },
  {
   "cell_type": "code",
   "execution_count": 71,
   "metadata": {},
   "outputs": [
    {
     "name": "stdout",
     "output_type": "stream",
     "text": [
      "21.36922\n"
     ]
    }
   ],
   "source": [
    "#Summed intensity of Magnitude 11 star\n",
    "hdulist = fits.open('Mag_11_Saturation.fits')\n",
    "image_data_Mag_11 = hdulist[0].data\n",
    "hdulist.close()\n",
    "#Zoom in to region where star is\n",
    "image_zoom_Mag_11=image_data_Mag_11[90:110,90:110]\n",
    "#Display the zoomed in image\n",
    "#plt.imshow(image_zoom_Mag_11, cmap='gray')\n",
    "#plt.colorbar()\n",
    "#Convert all pixel values to floats\n",
    "floatingpoint_version_Mag_11 = image_zoom_Mag_11[:,:]/1.0\n",
    "#Now we can sum up the intensities\n",
    "si_Mag_11 = floatingpoint_version_Mag_11[:,:].sum()\n",
    "#Print summed intensity\n",
    "print(si_Mag_11) "
   ]
  },
  {
   "cell_type": "code",
   "execution_count": 73,
   "metadata": {},
   "outputs": [
    {
     "name": "stdout",
     "output_type": "stream",
     "text": [
      "8.50724\n"
     ]
    }
   ],
   "source": [
    "#Summed intensity of Magnitude 12 star\n",
    "hdulist = fits.open('Mag_12_Saturation.fits')\n",
    "image_data_Mag_12 = hdulist[0].data\n",
    "hdulist.close()\n",
    "#Zoom in to region where star is\n",
    "image_zoom_Mag_12=image_data_Mag_12[90:110,90:110]\n",
    "#Display the zoomed in image\n",
    "#plt.imshow(image_zoom_Mag_12, cmap='gray')\n",
    "#plt.colorbar()\n",
    "#Convert all pixel values to floats\n",
    "floatingpoint_version_Mag_12 = image_zoom_Mag_12[:,:]/1.0\n",
    "#Now we can sum up the intensities\n",
    "si_Mag_12 = floatingpoint_version_Mag_12[:,:].sum()\n",
    "#Print summed intensity\n",
    "print(si_Mag_12) "
   ]
  },
  {
   "cell_type": "code",
   "execution_count": 74,
   "metadata": {},
   "outputs": [
    {
     "name": "stdout",
     "output_type": "stream",
     "text": [
      "3.3867931\n"
     ]
    }
   ],
   "source": [
    "#Summed intensity of Magnitude 13 star\n",
    "hdulist = fits.open('Mag_13_Saturation.fits')\n",
    "image_data_Mag_13 = hdulist[0].data\n",
    "hdulist.close()\n",
    "#Zoom in to region where star is\n",
    "image_zoom_Mag_13=image_data_Mag_13[90:110,90:110]\n",
    "#Display the zoomed in image\n",
    "#plt.imshow(image_zoom_Mag_13, cmap='gray')\n",
    "#plt.colorbar()\n",
    "#Convert all pixel values to floats\n",
    "floatingpoint_version_Mag_13 = image_zoom_Mag_13[:,:]/1.0\n",
    "#Now we can sum up the intensities\n",
    "si_Mag_13 = floatingpoint_version_Mag_13[:,:].sum()\n",
    "#Print summed intensity\n",
    "print(si_Mag_13) "
   ]
  },
  {
   "cell_type": "code",
   "execution_count": 75,
   "metadata": {},
   "outputs": [
    {
     "name": "stdout",
     "output_type": "stream",
     "text": [
      "1.3483067\n"
     ]
    }
   ],
   "source": [
    "#Summed intensity of Magnitude 14 star\n",
    "hdulist = fits.open('Mag_14_Saturation.fits')\n",
    "image_data_Mag_14 = hdulist[0].data\n",
    "hdulist.close()\n",
    "#Zoom in to region where star is\n",
    "image_zoom_Mag_14=image_data_Mag_14[90:110,90:110]\n",
    "#Display the zoomed in image\n",
    "#plt.imshow(image_zoom_Mag_14, cmap='gray')\n",
    "#plt.colorbar()\n",
    "#Convert all pixel values to floats\n",
    "floatingpoint_version_Mag_14 = image_zoom_Mag_14[:,:]/1.0\n",
    "#Now we can sum up the intensities\n",
    "si_Mag_14 = floatingpoint_version_Mag_14[:,:].sum()\n",
    "#Print summed intensity\n",
    "print(si_Mag_14) "
   ]
  },
  {
   "cell_type": "code",
   "execution_count": 76,
   "metadata": {},
   "outputs": [
    {
     "name": "stdout",
     "output_type": "stream",
     "text": [
      "0.5367705\n"
     ]
    }
   ],
   "source": [
    "#Summed intensity of Magnitude 15 star\n",
    "hdulist = fits.open('Mag_15_Saturation.fits')\n",
    "image_data_Mag_15 = hdulist[0].data\n",
    "hdulist.close()\n",
    "#Zoom in to region where star is\n",
    "image_zoom_Mag_15=image_data_Mag_15[90:110,90:110]\n",
    "#Display the zoomed in image\n",
    "#plt.imshow(image_zoom_Mag_15, cmap='gray')\n",
    "#plt.colorbar()\n",
    "#Convert all pixel values to floats\n",
    "floatingpoint_version_Mag_15 = image_zoom_Mag_15[:,:]/1.0\n",
    "#Now we can sum up the intensities\n",
    "si_Mag_15 = floatingpoint_version_Mag_15[:,:].sum()\n",
    "#Print summed intensity\n",
    "print(si_Mag_15) "
   ]
  },
  {
   "cell_type": "code",
   "execution_count": 77,
   "metadata": {},
   "outputs": [
    {
     "name": "stdout",
     "output_type": "stream",
     "text": [
      "0.21369219\n"
     ]
    }
   ],
   "source": [
    "#Summed intensity of Magnitude 10 star\n",
    "hdulist = fits.open('Mag_16_Saturation.fits')\n",
    "image_data_Mag_16 = hdulist[0].data\n",
    "hdulist.close()\n",
    "#Zoom in to region where star is\n",
    "image_zoom_Mag_16=image_data_Mag_16[90:110,90:110]\n",
    "#Display the zoomed in image\n",
    "#plt.imshow(image_zoom_Mag_16, cmap='gray')\n",
    "#plt.colorbar()\n",
    "#Convert all pixel values to floats\n",
    "floatingpoint_version_Mag_16 = image_zoom_Mag_16[:,:]/1.0\n",
    "#Now we can sum up the intensities\n",
    "si_Mag_16 = floatingpoint_version_Mag_16[:,:].sum()\n",
    "#Print summed intensity\n",
    "print(si_Mag_16) "
   ]
  },
  {
   "cell_type": "code",
   "execution_count": 78,
   "metadata": {},
   "outputs": [
    {
     "name": "stdout",
     "output_type": "stream",
     "text": [
      "0.0850724\n"
     ]
    }
   ],
   "source": [
    "#Summed intensity of Magnitude 17 star\n",
    "hdulist = fits.open('Mag_17_Saturation.fits')\n",
    "image_data_Mag_17 = hdulist[0].data\n",
    "hdulist.close()\n",
    "#Zoom in to region where star is\n",
    "image_zoom_Mag_17=image_data_Mag_17[90:110,90:110]\n",
    "#Display the zoomed in image\n",
    "#plt.imshow(image_zoom_Mag_17, cmap='gray')\n",
    "#plt.colorbar()\n",
    "#Convert all pixel values to floats\n",
    "floatingpoint_version_Mag_17 = image_zoom_Mag_17[:,:]/1.0\n",
    "#Now we can sum up the intensities\n",
    "si_Mag_17 = floatingpoint_version_Mag_17[:,:].sum()\n",
    "#Print summed intensity\n",
    "print(si_Mag_17) "
   ]
  },
  {
   "cell_type": "code",
   "execution_count": 79,
   "metadata": {},
   "outputs": [
    {
     "name": "stdout",
     "output_type": "stream",
     "text": [
      "0.033867933\n"
     ]
    }
   ],
   "source": [
    "#Summed intensity of Magnitude 18 star\n",
    "hdulist = fits.open('Mag_18_Saturation.fits')\n",
    "image_data_Mag_18 = hdulist[0].data\n",
    "hdulist.close()\n",
    "#Zoom in to region where star is\n",
    "image_zoom_Mag_18=image_data_Mag_18[90:110,90:110]\n",
    "#Display the zoomed in image\n",
    "#plt.imshow(image_zoom_Mag_18, cmap='gray')\n",
    "#plt.colorbar()\n",
    "#Convert all pixel values to floats\n",
    "floatingpoint_version_Mag_18 = image_zoom_Mag_18[:,:]/1.0\n",
    "#Now we can sum up the intensities\n",
    "si_Mag_18 = floatingpoint_version_Mag_18[:,:].sum()\n",
    "#Print summed intensity\n",
    "print(si_Mag_18) "
   ]
  },
  {
   "cell_type": "code",
   "execution_count": 81,
   "metadata": {},
   "outputs": [
    {
     "name": "stdout",
     "output_type": "stream",
     "text": [
      "0.013483066\n"
     ]
    }
   ],
   "source": [
    "#Summed intensity of Magnitude 19 star\n",
    "hdulist = fits.open('Mag_19_Saturation.fits')\n",
    "image_data_Mag_19 = hdulist[0].data\n",
    "hdulist.close()\n",
    "#Zoom in to region where star is\n",
    "image_zoom_Mag_19=image_data_Mag_19[90:110,90:110]\n",
    "#Display the zoomed in image\n",
    "#plt.imshow(image_zoom_Mag_19, cmap='gray')\n",
    "#plt.colorbar()\n",
    "#Convert all pixel values to floats\n",
    "floatingpoint_version_Mag_19 = image_zoom_Mag_19[:,:]/1.0\n",
    "#Now we can sum up the intensities\n",
    "si_Mag_19= floatingpoint_version_Mag_19[:,:].sum()\n",
    "#Print summed intensity\n",
    "print(si_Mag_19) "
   ]
  },
  {
   "cell_type": "code",
   "execution_count": 82,
   "metadata": {},
   "outputs": [
    {
     "name": "stdout",
     "output_type": "stream",
     "text": [
      "0.005367705\n"
     ]
    }
   ],
   "source": [
    "#Summed intensity of Magnitude 20 star\n",
    "hdulist = fits.open('Mag_20_Saturation.fits')\n",
    "image_data_Mag_20 = hdulist[0].data\n",
    "hdulist.close()\n",
    "#Zoom in to region where star is\n",
    "image_zoom_Mag_20=image_data_Mag_20[90:110,90:110]\n",
    "#Display the zoomed in image\n",
    "#plt.imshow(image_zoom_Mag_20, cmap='gray')\n",
    "#plt.colorbar()\n",
    "#Convert all pixel values to floats\n",
    "floatingpoint_version_Mag_20 = image_zoom_Mag_20[:,:]/1.0\n",
    "#Now we can sum up the intensities\n",
    "si_Mag_20 = floatingpoint_version_Mag_20[:,:].sum()\n",
    "#Print summed intensity\n",
    "print(si_Mag_20) "
   ]
  },
  {
   "cell_type": "code",
   "execution_count": 83,
   "metadata": {},
   "outputs": [
    {
     "name": "stdout",
     "output_type": "stream",
     "text": [
      "0.002136922\n"
     ]
    }
   ],
   "source": [
    "#Summed intensity of Magnitude 21 star\n",
    "hdulist = fits.open('Mag_21_Saturation.fits')\n",
    "image_data_Mag_21 = hdulist[0].data\n",
    "hdulist.close()\n",
    "#Zoom in to region where star is\n",
    "image_zoom_Mag_21=image_data_Mag_21[90:110,90:110]\n",
    "#Display the zoomed in image\n",
    "#plt.imshow(image_zoom_Mag_21, cmap='gray')\n",
    "#plt.colorbar()\n",
    "#Convert all pixel values to floats\n",
    "floatingpoint_version_Mag_21 = image_zoom_Mag_21[:,:]/1.0\n",
    "#Now we can sum up the intensities\n",
    "si_Mag_21 = floatingpoint_version_Mag_21[:,:].sum()\n",
    "#Print summed intensity\n",
    "print(si_Mag_21)"
   ]
  },
  {
   "cell_type": "code",
   "execution_count": 84,
   "metadata": {},
   "outputs": [
    {
     "name": "stdout",
     "output_type": "stream",
     "text": [
      "0.000850724\n"
     ]
    }
   ],
   "source": [
    "#Summed intensity of Magnitude 22 star\n",
    "hdulist = fits.open('Mag_22_Saturation.fits')\n",
    "image_data_Mag_22 = hdulist[0].data\n",
    "hdulist.close()\n",
    "#Zoom in to region where star is\n",
    "image_zoom_Mag_22=image_data_Mag_22[90:110,90:110]\n",
    "#Display the zoomed in image\n",
    "#plt.imshow(image_zoom_Mag_22, cmap='gray')\n",
    "#plt.colorbar()\n",
    "#Convert all pixel values to floats\n",
    "floatingpoint_version_Mag_22 = image_zoom_Mag_22[:,:]/1.0\n",
    "#Now we can sum up the intensities\n",
    "si_Mag_22 = floatingpoint_version_Mag_22[:,:].sum()\n",
    "#Print summed intensity\n",
    "print(si_Mag_22)"
   ]
  },
  {
   "cell_type": "code",
   "execution_count": 86,
   "metadata": {},
   "outputs": [
    {
     "name": "stdout",
     "output_type": "stream",
     "text": [
      "0.00033867933\n"
     ]
    }
   ],
   "source": [
    "#Summed intensity of Magnitude 23 star\n",
    "hdulist = fits.open('Mag_23_Saturation.fits')\n",
    "image_data_Mag_23 = hdulist[0].data\n",
    "hdulist.close()\n",
    "#Zoom in to region where star is\n",
    "image_zoom_Mag_23=image_data_Mag_23[90:110,90:110]\n",
    "#Display the zoomed in image\n",
    "#plt.imshow(image_zoom_Mag_23, cmap='gray')\n",
    "#plt.colorbar()\n",
    "#Convert all pixel values to floats\n",
    "floatingpoint_version_Mag_23 = image_zoom_Mag_23[:,:]/1.0\n",
    "#Now we can sum up the intensities\n",
    "si_Mag_23 = floatingpoint_version_Mag_23[:,:].sum()\n",
    "#Print summed intensity\n",
    "print(si_Mag_23)"
   ]
  },
  {
   "cell_type": "code",
   "execution_count": 87,
   "metadata": {},
   "outputs": [
    {
     "name": "stdout",
     "output_type": "stream",
     "text": [
      "0.00013483065\n"
     ]
    }
   ],
   "source": [
    "#Summed intensity of Magnitude 24 star\n",
    "hdulist = fits.open('Mag_24_Saturation.fits')\n",
    "image_data_Mag_24 = hdulist[0].data\n",
    "hdulist.close()\n",
    "#Zoom in to region where star is\n",
    "image_zoom_Mag_24=image_data_Mag_24[90:110,90:110]\n",
    "#Display the zoomed in image\n",
    "#plt.imshow(image_zoom_Mag_24, cmap='gray')\n",
    "#plt.colorbar()\n",
    "#Convert all pixel values to floats\n",
    "floatingpoint_version_Mag_24 = image_zoom_Mag_24[:,:]/1.0\n",
    "#Now we can sum up the intensities\n",
    "si_Mag_24 = floatingpoint_version_Mag_24[:,:].sum()\n",
    "#Print summed intensity\n",
    "print(si_Mag_24)"
   ]
  },
  {
   "cell_type": "code",
   "execution_count": 88,
   "metadata": {},
   "outputs": [
    {
     "name": "stdout",
     "output_type": "stream",
     "text": [
      "5.3677053e-05\n"
     ]
    }
   ],
   "source": [
    "#Summed intensity of Magnitude 25 star\n",
    "hdulist = fits.open('Mag_25_Saturation.fits')\n",
    "image_data_Mag_25 = hdulist[0].data\n",
    "hdulist.close()\n",
    "#Zoom in to region where star is\n",
    "image_zoom_Mag_25=image_data_Mag_25[90:110,90:110]\n",
    "#Display the zoomed in image\n",
    "#plt.imshow(image_zoom_Mag_25, cmap='gray')\n",
    "#plt.colorbar()\n",
    "#Convert all pixel values to floats\n",
    "floatingpoint_version_Mag_25 = image_zoom_Mag_25[:,:]/1.0\n",
    "#Now we can sum up the intensities\n",
    "si_Mag_25 = floatingpoint_version_Mag_25[:,:].sum()\n",
    "#Print summed intensity\n",
    "print(si_Mag_25)"
   ]
  },
  {
   "cell_type": "code",
   "execution_count": 89,
   "metadata": {},
   "outputs": [],
   "source": [
    "Magnitude_array=[5,6,7,8,9,10,11,12,13,14,15,16,17,18,19,20,21,22,23,24,25]\n",
    "Intensity_array=[si_Mag_5, si_Mag_6, si_Mag_7, si_Mag_8, si_Mag_9, si_Mag_10, si_Mag_11, si_Mag_12, si_Mag_13, si_Mag_14, si_Mag_15, si_Mag_16, si_Mag_17, si_Mag_18, si_Mag_19, si_Mag_20, si_Mag_21, si_Mag_22, si_Mag_23, si_Mag_24, si_Mag_25]"
   ]
  },
  {
   "cell_type": "code",
   "execution_count": 91,
   "metadata": {},
   "outputs": [
    {
     "data": {
      "image/png": "[encoded data removed]",
      "text/plain": [
       "<Figure size 640x480 with 1 Axes>"
      ]
     },
     "metadata": {},
     "output_type": "display_data"
    }
   ],
   "source": [
    "plt.plot(Magnitude_array,Intensity_array)\n",
    "plt.ylabel('Intensity')\n",
    "plt.xlabel('Magnitude')\n",
    "plt.show()"
   ]
  },
  {
   "cell_type": "code",
   "execution_count": 92,
   "metadata": {},
   "outputs": [],
   "source": [
    "Intensity_log_array=np.log10(Intensity_array)"
   ]
  },
  {
   "cell_type": "code",
   "execution_count": 94,
   "metadata": {},
   "outputs": [
    {
     "data": {
      "image/png": "[encoded data removed]",
      "text/plain": [
       "<Figure size 640x480 with 1 Axes>"
      ]
     },
     "metadata": {},
     "output_type": "display_data"
    }
   ],
   "source": [
    "plt.plot(Magnitude_array,Intensity_log_array)\n",
    "plt.ylabel('Log10 Intensity')\n",
    "plt.xlabel('Magnitude')\n",
    "plt.show()"
   ]
  },
  {
   "cell_type": "code",
   "execution_count": null,
   "metadata": {},
   "outputs": [],
   "source": []
  }
 ],
 "metadata": {
  "kernelspec": {
   "display_name": "Python 3",
   "language": "python",
   "name": "python3"
  },
  "language_info": {
   "codemirror_mode": {
    "name": "ipython",
    "version": 3
   },
   "file_extension": ".py",
   "mimetype": "text/x-python",
   "name": "python",
   "nbconvert_exporter": "python",
   "pygments_lexer": "ipython3",
   "version": "3.6.5"
  }
 },
 "nbformat": 4,
 "nbformat_minor": 2
}
